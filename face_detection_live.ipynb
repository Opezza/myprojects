{
 "cells": [
  {
   "cell_type": "code",
   "execution_count": 1,
   "metadata": {
    "colab": {
     "base_uri": "https://localhost:8080/"
    },
    "id": "CGo49sDeGs27",
    "outputId": "4cde0a46-5cbb-4997-b270-bd0e8536aedc"
   },
   "outputs": [
    {
     "name": "stdout",
     "output_type": "stream",
     "text": [
      "Requirement already satisfied: opencv-python in /Users/aleksandraswiader/opt/anaconda3/lib/python3.9/site-packages (4.7.0.72)\n",
      "Requirement already satisfied: numpy>=1.17.3 in /Users/aleksandraswiader/opt/anaconda3/lib/python3.9/site-packages (from opencv-python) (1.21.5)\n",
      "Note: you may need to restart the kernel to use updated packages.\n"
     ]
    }
   ],
   "source": [
    "#pip install opencv-python"
   ]
  },
  {
   "cell_type": "code",
   "execution_count": 1,
   "metadata": {
    "id": "3vRxIZtSMMmq"
   },
   "outputs": [],
   "source": [
    "import cv2\n",
    "import numpy as np"
   ]
  },
  {
   "cell_type": "code",
   "execution_count": 2,
   "metadata": {},
   "outputs": [],
   "source": [
    "# picture used: https://img.fixthephoto.com/blog/images/gallery/news_preview_mob_image__preview_404.jpg\n",
    "# saved as \"group_photo2.jpeg\""
   ]
  },
  {
   "cell_type": "code",
   "execution_count": 3,
   "metadata": {
    "id": "DOz5R8MkMVUg"
   },
   "outputs": [],
   "source": [
    "group_photo = cv2.imread('/Users/aleksandraswiader/Desktop/projekty/group_photo2.jpeg')"
   ]
  },
  {
   "cell_type": "code",
   "execution_count": 4,
   "metadata": {
    "id": "HBFZ5rM_OGm3"
   },
   "outputs": [],
   "source": [
    "# Loading the Haar Cascade Classifier\n",
    "face_cascade = cv2.CascadeClassifier(cv2.data.haarcascades + 'haarcascade_frontalface_default.xml')"
   ]
  },
  {
   "cell_type": "code",
   "execution_count": 5,
   "metadata": {
    "id": "SdrQeJVKPztt"
   },
   "outputs": [],
   "source": [
    "# Konwersja do skali szarości\n",
    "gray = cv2.cvtColor(group_photo, cv2.COLOR_BGR2GRAY)"
   ]
  },
  {
   "cell_type": "code",
   "execution_count": 6,
   "metadata": {
    "id": "k8Z-EddXQQwm"
   },
   "outputs": [],
   "source": [
    "# Detect faces using the classifier\n",
    "face_cascade = cv2.CascadeClassifier(cv2.data.haarcascades + 'haarcascade_frontalface_default.xml')\n",
    "faces = face_cascade.detectMultiScale(gray, scaleFactor=1.3, minNeighbors=3)"
   ]
  },
  {
   "cell_type": "code",
   "execution_count": 7,
   "metadata": {
    "id": "VrJ-fYsxR4AZ"
   },
   "outputs": [],
   "source": [
    "# Detect smiles using the classifier\n",
    "smile_cascade = cv2.CascadeClassifier(cv2.data.haarcascades + 'haarcascade_smile.xml')\n",
    "smiles = smile_cascade.detectMultiScale(gray, 1.7, 20)"
   ]
  },
  {
   "cell_type": "code",
   "execution_count": 8,
   "metadata": {
    "id": "eilWTA6ZR65l"
   },
   "outputs": [],
   "source": [
    "# Detect eyes using the classifier\n",
    "eye_cascade = cv2.CascadeClassifier(cv2.data.haarcascades + 'haarcascade_eye.xml')\n",
    "eyes = eye_cascade.detectMultiScale(gray, 1.3, 5)"
   ]
  },
  {
   "cell_type": "code",
   "execution_count": 9,
   "metadata": {
    "id": "lobPngVKS5s5"
   },
   "outputs": [],
   "source": [
    "# Draw rectangles around detected faces, smiles and eyes\n",
    "for (x, y, w, h) in faces:\n",
    "    cv2.rectangle(group_photo, (x, y), (x+w, y+h), (0, 255, 0), 2)\n",
    "\n",
    "for (x, y, w, h) in smiles:\n",
    "    cv2.rectangle(group_photo, (x, y), (x+w, y+h), (0, 0, 255), 2)\n",
    "\n",
    "for (x, y, w, h) in eyes:\n",
    "    cv2.rectangle(group_photo, (x, y), (x+w, y+h), (255, 0, 0), 2)"
   ]
  },
  {
   "cell_type": "code",
   "execution_count": 10,
   "metadata": {
    "id": "KOQaqbCpSPDH"
   },
   "outputs": [],
   "source": [
    "# Count faces, smiles and eyes\n",
    "num_faces = len(faces)\n",
    "num_smiles = len(smiles)\n",
    "num_eyes = len(eyes)"
   ]
  },
  {
   "cell_type": "code",
   "execution_count": 11,
   "metadata": {
    "id": "XAlfC8QmTWQc"
   },
   "outputs": [],
   "source": [
    "# Preparing HOG detector with SVM classifier\n",
    "hog = cv2.HOGDescriptor()\n",
    "hog.setSVMDetector(cv2.HOGDescriptor_getDefaultPeopleDetector())"
   ]
  },
  {
   "cell_type": "code",
   "execution_count": 12,
   "metadata": {
    "colab": {
     "base_uri": "https://localhost:8080/",
     "height": 1000
    },
    "id": "16rRjVP0QQc1",
    "outputId": "a0de1236-a594-4f3e-f6b8-9e1467f70c38"
   },
   "outputs": [
    {
     "name": "stdout",
     "output_type": "stream",
     "text": [
      "Number of faces:  4\n",
      "Number of smiles:  3\n",
      "Number of eyes:  5\n"
     ]
    }
   ],
   "source": [
    "# Display the image with detected faces, smiles and eyes\n",
    "cv2.imshow(\"group_photo\",group_photo)\n",
    "cv2.waitKey()\n",
    "cv2.destroyAllWindows()\n",
    "\n",
    "print(\"Number of faces: \", num_faces)\n",
    "print(\"Number of smiles: \", num_smiles)\n",
    "print(\"Number of eyes: \", num_eyes)"
   ]
  },
  {
   "cell_type": "markdown",
   "metadata": {
    "id": "st6-4UDmO_Oo"
   },
   "source": [
    "# Live camera face detection"
   ]
  },
  {
   "cell_type": "code",
   "execution_count": 14,
   "metadata": {
    "id": "yvNPwVvJUSH6"
   },
   "outputs": [],
   "source": [
    "# Create a video capture object from camera (0 for default camera)\n",
    "cap = cv2.VideoCapture(0)\n",
    "\n",
    "# Loop to read and display frames from the camera\n",
    "while True:\n",
    "    # Read a frame from the camera\n",
    "    ret, frame = cap.read()\n",
    "\n",
    "    # Convert the frame to grayscale\n",
    "    gray = cv2.cvtColor(frame, cv2.COLOR_BGR2GRAY)\n",
    "\n",
    "    # Detect faces\n",
    "    faces = face_cascade.detectMultiScale(gray, scaleFactor=1.3, minNeighbors=5)\n",
    "\n",
    "    # Draw rectangles around faces\n",
    "    for (x, y, w, h) in faces:\n",
    "        cv2.rectangle(frame, (x, y), (x+w, y+h), (0, 255, 0), 2)\n",
    "\n",
    "    # Display the frame\n",
    "    cv2.imshow('frame', frame)\n",
    "\n",
    "    # Check if the user pressed the 'q' key\n",
    "    if cv2.waitKey(1) == ord('q'):\n",
    "        break\n",
    "\n",
    "# Release the video capture object and close the window\n",
    "cap.release()\n",
    "cv2.destroyAllWindows()"
   ]
  }
 ],
 "metadata": {
  "colab": {
   "provenance": []
  },
  "kernelspec": {
   "display_name": "Python 3 (ipykernel)",
   "language": "python",
   "name": "python3"
  },
  "language_info": {
   "codemirror_mode": {
    "name": "ipython",
    "version": 3
   },
   "file_extension": ".py",
   "mimetype": "text/x-python",
   "name": "python",
   "nbconvert_exporter": "python",
   "pygments_lexer": "ipython3",
   "version": "3.9.12"
  }
 },
 "nbformat": 4,
 "nbformat_minor": 1
}
